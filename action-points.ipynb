{
 "cells": [
  {
   "cell_type": "code",
   "execution_count": null,
   "metadata": {},
   "outputs": [],
   "source": [
    "import pandas as pd\n",
    "from dotenv import load_dotenv\n",
    "from openai import AzureOpenAI, RateLimitError\n",
    "import os\n",
    "\n",
    "load_dotenv()\n",
    "\n",
    "deployment_name='gpt4Test'\n",
    "max_tokens=4096\n",
    "\n",
    "client = AzureOpenAI(\n",
    "    api_key=os.getenv(\"AZURE_API_KEY\"),  \n",
    "    api_version=os.getenv(\"AZURE_API_VERSION\"),\n",
    "    azure_endpoint=os.getenv(\"AZURE_ENDPOINT\")\n",
    ")\n",
    "\n",
    "def generate_chat_gpt_query(prompt):\n",
    "    response = client.chat.completions.create(\n",
    "        model=deployment_name,\n",
    "        messages=[\n",
    "            {\"role\": \"user\", \"content\": prompt}\n",
    "        ],\n",
    "        max_tokens=max_tokens,\n",
    "        temperature=0,\n",
    "        n=1,\n",
    "        stop=None\n",
    "    )\n",
    "\n",
    "    if response.choices:\n",
    "        return response.choices[0].message.content.strip()\n",
    "    else:\n",
    "        return \"No suggestion generated.\"\n",
    "\n",
    "df = pd.read_csv(\"action_points.csv\")\n",
    "\n",
    "context = df.to_json(orient=\"records\")\n",
    "\n",
    "query = (\n",
    "    \"Given a context containing action points from different sprint retrospectives grouped by days. Please analyze action points and provide:\\n\"\n",
    "    \"3 the most important problems action points created for.\\n\"\n",
    "    \"\\tAnswer should be in the following format:\\n\"\n",
    "    \"\\t**Problem**\\n\"\n",
    "    \"\\tList of all action points created with intention to resolve this problem in format: ```day``` - ```action point```\\n\"\n",
    "    \"\\tYour conclusion about the problem in format: \\n\"\n",
    "    \"\\t\\tEnumerate action points with semanticly similar content or with similar meaning met during different retrospectives. I want to identify persistance of the same problem during multiple sprints. If there are **no such action points**, **omit** this part. Do it in format:\\n\"\n",
    "    \"\\t\\t\\t**Subtopic name of the problem found similar action points are about**\"\n",
    "    \"\\t\\t\\t```day``` - ```action point``` each from new line\\n\"\n",
    "    \"\\t\\tExpress your conclusion on this problem.\"\n",
    ")\n",
    "\n",
    "prompt = \"Context:\\n\" + context + \"\\n\\nPrompt:\\n\" + query\n",
    "print(prompt)\n",
    "ai_response = generate_chat_gpt_query(prompt)\n",
    "print(ai_response)\n"
   ]
  }
 ],
 "metadata": {
  "kernelspec": {
   "display_name": "venv",
   "language": "python",
   "name": "python3"
  },
  "language_info": {
   "codemirror_mode": {
    "name": "ipython",
    "version": 3
   },
   "file_extension": ".py",
   "mimetype": "text/x-python",
   "name": "python",
   "nbconvert_exporter": "python",
   "pygments_lexer": "ipython3",
   "version": "3.11.5"
  }
 },
 "nbformat": 4,
 "nbformat_minor": 2
}
