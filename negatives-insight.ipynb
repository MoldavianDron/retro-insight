{
 "cells": [
  {
   "cell_type": "code",
   "execution_count": null,
   "metadata": {},
   "outputs": [],
   "source": [
    "import pandas as pd\n",
    "from dotenv import load_dotenv\n",
    "from openai import AzureOpenAI, RateLimitError\n",
    "import os\n",
    "\n",
    "load_dotenv()\n",
    "\n",
    "deployment_name='gpt4Test'\n",
    "max_tokens=4096\n",
    "\n",
    "client = AzureOpenAI(\n",
    "    api_key=os.getenv(\"AZURE_API_KEY\"),  \n",
    "    api_version=os.getenv(\"AZURE_API_VERSION\"),\n",
    "    azure_endpoint=os.getenv(\"AZURE_ENDPOINT\")\n",
    ")\n",
    "\n",
    "def generate_chat_gpt_query(prompt):\n",
    "    response = client.chat.completions.create(\n",
    "        model=deployment_name,\n",
    "        messages=[\n",
    "            {\"role\": \"user\", \"content\": prompt}\n",
    "        ],\n",
    "        max_tokens=max_tokens,\n",
    "        temperature=0,\n",
    "        n=1,\n",
    "        stop=None\n",
    "    )\n",
    "\n",
    "    if response.choices:\n",
    "        return response.choices[0].message.content.strip()\n",
    "    else:\n",
    "        return \"No suggestion generated.\"\n",
    "    \n",
    "df = pd.read_csv(\"dataset_with_sentiment.csv\")\n",
    "\n",
    "df_negative = df[df['label'] == 'negative']\n",
    "\n",
    "specific_days = ['2023-01-02', '2022-12-16']\n",
    "\n",
    "df_specific_days = df_negative[df_negative['day'].isin(specific_days)].drop(columns=[\"Unnamed: 0\"])\n",
    "\n",
    "context = df_specific_days.to_json(orient=\"records\")\n",
    "\n",
    "query = (\n",
    "    \"Given context contains negative feedbacks from my team received during sprint retrospectives from days: \" + \", \".join(specific_days) + \"\\n\"\n",
    "    \"1. What common themes or patterns do you detect in the negative feedback provided over the different days?\\n\"\n",
    "    \"2. Highlight feedbacks from the same topic which appear most frequently.\\n\"\n",
    ")\n",
    "\n",
    "prompt = \"Context:\\n\" + context + \"\\n\\n Prompt:\\n\" + query\n",
    "print(prompt)\n",
    "ai_response = generate_chat_gpt_query(prompt)\n",
    "print(ai_response)\n"
   ]
  }
 ],
 "metadata": {
  "kernelspec": {
   "display_name": "venv",
   "language": "python",
   "name": "python3"
  },
  "language_info": {
   "codemirror_mode": {
    "name": "ipython",
    "version": 3
   },
   "file_extension": ".py",
   "mimetype": "text/x-python",
   "name": "python",
   "nbconvert_exporter": "python",
   "pygments_lexer": "ipython3",
   "version": "3.11.5"
  }
 },
 "nbformat": 4,
 "nbformat_minor": 2
}
