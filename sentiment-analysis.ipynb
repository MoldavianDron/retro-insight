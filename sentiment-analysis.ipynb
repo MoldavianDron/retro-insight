{
 "cells": [
  {
   "cell_type": "code",
   "execution_count": null,
   "metadata": {},
   "outputs": [],
   "source": [
    "import pandas as pd\n",
    "from transformers import pipeline\n",
    "\n",
    "def get_sentiment_accuracy(df):\n",
    "    rows_total = 0\n",
    "    rows_guessed = 0\n",
    "\n",
    "    for index in df.index:\n",
    "        rows_total = rows_total + 1\n",
    "        label = df[\"label\"][index]\n",
    "        human_label = df[\"human_label\"][index]\n",
    "        \n",
    "        if label == human_label:\n",
    "            rows_guessed = rows_guessed + 1\n",
    "\n",
    "    return rows_guessed / rows_total\n",
    "\n",
    "def applyLabel(text):\n",
    "    classifier_result = classifier(text, [\"positive\", \"negative\", \"neutral\"], multi_class=True)\n",
    "    labels_dict = {key: value for key, value in zip(classifier_result['labels'], classifier_result['scores'])}\n",
    "\n",
    "    # it is not optimal to return max value as sometimes neutral phrase may be false negative or false positive\n",
    "    if (labels_dict[\"positive\"] >= 0.5):\n",
    "        return \"positive\"\n",
    "    if (labels_dict[\"negative\"] >= 0.4):\n",
    "        return \"negative\"\n",
    "    return \"neutral\"\n",
    "\n",
    "classifier = pipeline(\n",
    "                      task=\"zero-shot-classification\",\n",
    "                      model=\"facebook/bart-large-mnli\"\n",
    "                    )\n",
    "dataset = pd.read_csv(\"dataset.csv\")\n",
    "dataset['label'] = dataset['text'].apply(applyLabel)\n",
    "dataset.to_csv(\"dataset_with_sentiment.csv\")\n",
    "\n",
    "negative_df = dataset.loc[dataset['human_label'] == \"negative\"]\n",
    "neutral_df = dataset.loc[dataset['human_label'] == \"neutral\"]\n",
    "positive_df = dataset.loc[dataset['human_label'] == \"positive\"]\n",
    "\n",
    "negatives_accuracy = get_sentiment_accuracy(negative_df)\n",
    "neutral_accuracy = get_sentiment_accuracy(neutral_df)\n",
    "positive_accuracy = get_sentiment_accuracy(positive_df)\n",
    "overall_accuracy = get_sentiment_accuracy(dataset)\n",
    "\n",
    "f = open(\"sentiment_accuracy.txt\", \"w\")\n",
    "result_string = (\n",
    "    \"overall accuracy: \" + str(overall_accuracy) + \"\\n\"\n",
    "    \"negatives accuracy: \" + str(negatives_accuracy) + \"\\n\"\n",
    "    \"neutral accuracy: \" + str(neutral_accuracy) + \"\\n\"\n",
    "    \"positive_accuracy: \" + str(positive_accuracy) \n",
    ")\n",
    "f.write(result_string)\n",
    "f.close()\n"
   ]
  }
 ],
 "metadata": {
  "kernelspec": {
   "display_name": "venv",
   "language": "python",
   "name": "python3"
  },
  "language_info": {
   "codemirror_mode": {
    "name": "ipython",
    "version": 3
   },
   "file_extension": ".py",
   "mimetype": "text/x-python",
   "name": "python",
   "nbconvert_exporter": "python",
   "pygments_lexer": "ipython3",
   "version": "3.11.5"
  }
 },
 "nbformat": 4,
 "nbformat_minor": 2
}
